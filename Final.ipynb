{
 "cells": [
  {
   "cell_type": "code",
   "execution_count": 2,
   "metadata": {
    "collapsed": false
   },
   "outputs": [],
   "source": [
    "from sklearn.ensemble import RandomForestClassifier\n",
    "from sklearn import (metrics, model_selection, linear_model, preprocessing, ensemble, neighbors, tree, decomposition)\n",
    "from sklearn.neighbors import KNeighborsClassifier\n",
    "import matplotlib.pyplot as plt\n",
    "from matplotlib import rcParams\n",
    "import pydotplus\n",
    "import seaborn as sns\n",
    "import numpy as np\n",
    "import pandas as pd\n",
    "import pprint as pp\n",
    "import re\n",
    "from sklearn.model_selection import train_test_split, cross_val_score\n",
    "# vvv sklearn/cross_validation.py:44: DeprecationWarning: This module was deprecated in version 0.18 in favor of the model_selection module into which all the refactored classes and functions are moved. Also note that the interface of the new CV iterators are different from that of this module. This module will be removed in 0.20.\n",
    "# from xgboost import XGBClassifier,plot_tree,to_graphviz\n"
   ]
  },
  {
   "cell_type": "code",
   "execution_count": 2,
   "metadata": {
    "collapsed": true
   },
   "outputs": [],
   "source": [
    "from IPython.display import Image \n",
    "\n",
    "%matplotlib inline\n",
    "\n",
    "# markdown syntax:\n",
    "# https://daringfireball.net/projects/markdown/syntax#header"
   ]
  },
  {
   "cell_type": "code",
   "execution_count": 2,
   "metadata": {},
   "outputs": [],
   "source": [
    "import os,sys\n",
    "\n",
    "# attempted, didn't work:\n",
    "# https://stackoverflow.com/a/39311677\n",
    "# libdir=os.path.split(os.getcwd())[0]\n",
    "# sys.path.append(os.getcwd())\n",
    "# module_path = os.path.abspath(os.path.join('..'))\n",
    "# https://stackoverflow.com/a/35273613\n",
    "\n",
    "libpath=\"./code\"\n",
    "if libpath not in sys.path:\n",
    "    sys.path.append('./code')\n",
    "\n",
    "# import helpers\n",
    "# helpers.print_test()"
   ]
  },
  {
   "cell_type": "code",
   "execution_count": 3,
   "metadata": {},
   "outputs": [],
   "source": [
    "import txdot_parse as txpars\n",
    "import helpers\n",
    "import feature_definitions as ftdef"
   ]
  },
  {
   "cell_type": "markdown",
   "metadata": {},
   "source": [
    "# TOC - Table of Contents\n",
    "\n",
    "<!-- generate with helpers.py -->\n",
    "*  [Introduction](#Introduction)\n",
    "\n",
    "*  [Data Preparation](#Data-Preparation)\n",
    "\n",
    "* *  [Preprocessing](#Preprocessing)\n",
    "\n",
    "* *  [Impute Missing Values](#Impute-Missing-Values)\n",
    "\n",
    "*  [Data Exploration](#Data-Exploration)\n",
    "\n",
    "* *  [Visualisation](#Visualisation)\n",
    "\n",
    "* *  [Maps of Crashes](#Maps-of-Crashes)\n",
    "\n",
    "* *  [Feature Selection](#Feature-Selection)\n",
    "\n",
    "* * *  [Decision Tree Classifier](#Decision-Tree-Classifier)\n",
    "\n",
    "* * *  [Decision Tree Classifier CV](#Decision-Tree-Classifier-CV)\n",
    "\n",
    "*  [Analysis](#Analysis)\n",
    "\n",
    "* *  [XGB - Extreme Gradient Boosting](#XGB---Extreme-Gradient-Boosting)\n",
    "\n",
    "* *  [Random Forest](#Random-Forest)\n",
    "\n",
    "* *  [KNN: K Nearest Neighbours](#KNN:-K-Nearest-Neighbours)\n",
    "\n",
    "* *  [XGB ROC CV Optimisation](#XGB-ROC-CV-Optimisation)"
   ]
  },
  {
   "cell_type": "markdown",
   "metadata": {},
   "source": [
    "# Introduction\n",
    "\n",
    "In 2015 the White House issued a challenge to data scientists to examine out why accidents increased drastically in 2015.\n",
    "\n",
    "This announcment was made on a national level, which prompted our interest in what could be done at the local level.\n",
    "\n",
    "In partiular, we were interested in the safety of bicycling in Austin.\n",
    "\n",
    "Austin has been working on improving cycling safety for many years, and recently partnered with Vision Zero to eliminate all traffic fatalities.\n",
    "\n",
    "This project examines which effect these ongoing efforts by the City of Austin have had on cycling safety."
   ]
  },
  {
   "cell_type": "markdown",
   "metadata": {},
   "source": [
    "# Data Preparation"
   ]
  },
  {
   "cell_type": "markdown",
   "metadata": {},
   "source": [
    "## Preprocessing\n",
    "\n",
    "The data for this project was downloaded from the TxDoT website, which requires one to manually select the data and download a CSV file.\n",
    "\n",
    "\n",
    "The downloaded CSV file was not immediately machine readable.\n",
    "\n",
    "E.g. missing data had various representations which all needed to be replaced by np.nan."
   ]
  },
  {
   "cell_type": "code",
   "execution_count": 4,
   "metadata": {
    "collapsed": true
   },
   "outputs": [],
   "source": [
    "# import the \"crash\" data\n",
    "data = pd.read_csv(\"data/my_map_grid.csv\",header=10)"
   ]
  },
  {
   "cell_type": "code",
   "execution_count": 5,
   "metadata": {
    "collapsed": true
   },
   "outputs": [],
   "source": [
    "# preprocessing\n",
    "# lowercase: http://stackoverflow.com/a/38931854\n",
    "data.columns = data.columns.str.lower()\n",
    "# remove spaces\n",
    "data.columns = data.columns.str.replace(' ', '_')\n",
    "# special cases\n",
    "data.columns = data.columns.str.replace('crash_i_d', 'crash_id')\n",
    "# remove whateva data\n",
    "\n",
    "# replace ['No Data','Not Applicable'] with NaN\n",
    "data.replace(to_replace='No Data', value=np.nan, inplace=True)\n",
    "data.replace(to_replace='Not Applicable', value=np.nan, inplace=True)\n",
    "data.latitude = pd.to_numeric(data.latitude)\n",
    "data.longitude = pd.to_numeric(data.longitude)"
   ]
  },
  {
   "cell_type": "markdown",
   "metadata": {},
   "source": [
    "## Impute Missing Values\n",
    "\n",
    "About 25% of the speed limits were not recorded.\n",
    "\n",
    "However, we were able to imput about 5% of the speed limits by examining duplicate intersections.\n",
    "\n",
    "It should be noted that the speed limits change over the years; when imputing speed limits, later values were preferred for back-fill over earlier values.\n",
    "\n",
    "This could bias the values towards higher speed limits, but the delta is usually only 5mph at a time."
   ]
  },
  {
   "cell_type": "code",
   "execution_count": 6,
   "metadata": {
    "collapsed": false
   },
   "outputs": [
    {
     "name": "stdout",
     "output_type": "stream",
     "text": [
      "########################################\n",
      "pre : total missing speed limit data:\n",
      " 575 (0.2576164874551971 of 1)\n",
      "post: total missing speed limit data:\n",
      " 458 (0.20519713261648745 of 1)\n",
      "########################################\n"
     ]
    }
   ],
   "source": [
    "data.speed_limit.replace(0,np.nan,inplace=True)\n",
    "data.speed_limit.replace(-1,np.nan,inplace=True)\n",
    "# impute speed limits\n",
    "print(\"########################################\")\n",
    "verbose=0\n",
    "if(verbose):\n",
    "    print(data.speed_limit.value_counts())\n",
    "totalmissing   = data[data['speed_limit'].isnull()].shape[0]\n",
    "missingpercent = totalmissing / data.shape[0]\n",
    "print(\"pre : total missing speed limit data:\\n %s (%s of 1)\" % (totalmissing, missingpercent))\n",
    "if(verbose):\n",
    "    print(data.speed_limit.unique())\n",
    "data = txpars.impute_mph(data, verbose=0)\n",
    "totalmissing   = data[data['speed_limit'].isnull()].shape[0]\n",
    "missingpercent = totalmissing / data.shape[0]\n",
    "print(\"post: total missing speed limit data:\\n %s (%s of 1)\" % (totalmissing, missingpercent))\n",
    "if(verbose):\n",
    "    print(data.speed_limit.unique())\n",
    "    print(data.speed_limit.value_counts())\n",
    "    print(data.info())\n",
    "print(\"########################################\")"
   ]
  },
  {
   "cell_type": "markdown",
   "metadata": {},
   "source": [
    "# Data Exploration"
   ]
  },
  {
   "cell_type": "markdown",
   "metadata": {},
   "source": [
    "## Visualisation"
   ]
  },
  {
   "cell_type": "markdown",
   "metadata": {},
   "source": [
    "## Maps of Crashes"
   ]
  },
  {
   "cell_type": "code",
   "execution_count": 14,
   "metadata": {},
   "outputs": [
    {
     "data": {
      "image/png": "[encoded data removed]",
      "text/plain": [
       "<matplotlib.figure.Figure at 0x83ed2aa048>"
      ]
     },
     "metadata": {},
     "output_type": "display_data"
    },
    {
     "data": {
      "image/png": "[encoded data removed]",
      "text/plain": [
       "<matplotlib.figure.Figure at 0x83ece7c240>"
      ]
     },
     "metadata": {},
     "output_type": "display_data"
    },
    {
     "data": {
      "image/png": "[encoded data removed]",
      "text/plain": [
       "<matplotlib.figure.Figure at 0x83ecf52518>"
      ]
     },
     "metadata": {},
     "output_type": "display_data"
    }
   ],
   "source": [
    "# Let's see the realationship between crashes and time of day\n",
    "# First, let's just look at the total crashes vs time of day (no crash severity)\n",
    "\n",
    "data = pd.read_csv(\"data/my_map_grid.csv\",header=10)\n",
    "data.columns = data.columns.str.lower()\n",
    "# remove spaces\n",
    "data.columns = data.columns.str.replace(' ', '_')\n",
    "\n",
    "# add \n",
    "ax_time = helpers.get_ax_time(\n",
    "        interval = '24h',\n",
    "        title = 'Frequency of Bike Crashes For Time of Day (2010-2017)',\n",
    "        xlabel = 'Time of Day (24 hr)',\n",
    "        ylabel = 'count',\n",
    "        )\n",
    "\n",
    "data.crash_time.hist(bins=48,ax=ax_time)\n",
    "plt.show()\n",
    "\n",
    "# Let's see if there is a trend of total bike crashes by year\n",
    "# We'll ignore 2017 data since it is incomplete\n",
    "# histogram\n",
    "if(1):\n",
    "    data.crash_year[data.crash_year != 2017].plot.hist(bins=7)\n",
    "    plt.xlabel('Year')\n",
    "    plt.title('Frequency of Bike Crashes Per Year (2010-2016)')\n",
    "    plt.show()\n",
    "# bar chart\n",
    "else:\n",
    "    plt.bar(data.crash_year[data.crash_year != 2017].value_counts().index, data.crash_year[data.crash_year != 2017].value_counts().values)\n",
    "    plt.xlabel('Year')\n",
    "    plt.title('Frequency of Bike Crashes Per Year (2010-2016)')\n",
    "    plt.show()\n",
    "\n",
    "# Spread of Crash Severity data from 2010-2017\n",
    "# Using seaborn for ease of use with categorical data\n",
    "sns.countplot(x=\"crash_severity\", data=data);\n",
    "plt.xticks(rotation=45, rotation_mode=\"anchor\",ha=\"right\")\n",
    "plt.title('Crash Severity Total Count (2010-2017)')\n",
    "plt.show()\n",
    "\n",
    "if(0):\n",
    "    sns.countplot(x=\"street_name\", data=data);\n",
    "    plt.xticks(rotation=45, rotation_mode=\"anchor\",ha=\"right\")\n",
    "    plt.title('Total Accidents by Street Name (2010-2017)')\n",
    "    plt.show()"
   ]
  },
  {
   "cell_type": "code",
   "execution_count": 17,
   "metadata": {
    "collapsed": false
   },
   "outputs": [
    {
     "name": "stdout",
     "output_type": "stream",
     "text": [
      "Total Crashes involving Severe Injuries and fatalities from 2010-2017\n"
     ]
    },
    {
     "data": {
      "text/html": [
       "<iframe src=output/crashes.html width=700 height=525></iframe>"
      ],
      "text/plain": [
       "<IPython.core.display.HTML object>"
      ]
     },
     "execution_count": 17,
     "metadata": {},
     "output_type": "execute_result"
    }
   ],
   "source": [
    "print(\"Total Crashes involving Severe Injuries and fatalities from 2010-2017\")\n",
    "import IPython\n",
    "url = 'output/crashes.html'\n",
    "iframe = '<iframe src=' + url + ' width=700 height=525></iframe>'\n",
    "IPython.display.HTML(iframe)"
   ]
  },
  {
   "cell_type": "markdown",
   "metadata": {},
   "source": [
    "Total Map of Crashes:\n",
    "\n",
    "The clustering is expected for anyone familiar with Austin roads:\n",
    "\n",
    "* Downtown area\n",
    "* Riverside\n",
    "* Congress\n",
    "* Lamar\n",
    "* Guadalupe\n",
    "\n",
    "Very few severe accidents outside of the core area.\n",
    "\n",
    "The subsequent maps investiage the spikes observed in the time-of-day bar-chart."
   ]
  },
  {
   "cell_type": "code",
   "execution_count": 18,
   "metadata": {
    "collapsed": false
   },
   "outputs": [
    {
     "name": "stdout",
     "output_type": "stream",
     "text": [
      "Morning+Daytime (500 - 1530): Total Crashes involving Severe Injuries and fatalities from 2010-2017\n"
     ]
    },
    {
     "data": {
      "text/html": [
       "<iframe src=output/crashes_500_1530.html width=700 height=525></iframe>"
      ],
      "text/plain": [
       "<IPython.core.display.HTML object>"
      ]
     },
     "execution_count": 18,
     "metadata": {},
     "output_type": "execute_result"
    }
   ],
   "source": [
    "print(\"Morning+Daytime (500 - 1530): Total Crashes involving Severe Injuries and fatalities from 2010-2017\")\n",
    "import IPython\n",
    "url = 'output/crashes_500_1530.html'\n",
    "iframe = '<iframe src=' + url + ' width=700 height=525></iframe>'\n",
    "IPython.display.HTML(iframe)"
   ]
  },
  {
   "cell_type": "markdown",
   "metadata": {},
   "source": [
    "Crashes with Severe Injuries between 05:00 and 15:30\n",
    "\n",
    "This looks roughly the same as the map of overall crashes, which is explained by the overall higher rate of incidents during these times."
   ]
  },
  {
   "cell_type": "code",
   "execution_count": 19,
   "metadata": {
    "collapsed": false
   },
   "outputs": [
    {
     "name": "stdout",
     "output_type": "stream",
     "text": [
      "Happy Hour (1530 - 1900) Total Crashes involving Severe Injuries and fatalities from 2010-2017\n"
     ]
    },
    {
     "data": {
      "text/html": [
       "<iframe src=output/crashes_1530_1900.html width=700 height=525></iframe>"
      ],
      "text/plain": [
       "<IPython.core.display.HTML object>"
      ]
     },
     "execution_count": 19,
     "metadata": {},
     "output_type": "execute_result"
    }
   ],
   "source": [
    "print(\"Happy Hour (1530 - 1900) Total Crashes involving Severe Injuries and fatalities from 2010-2017\")\n",
    "import IPython\n",
    "url = 'output/crashes_1530_1900.html'\n",
    "iframe = '<iframe src=' + url + ' width=700 height=525></iframe>'\n",
    "IPython.display.HTML(iframe)"
   ]
  },
  {
   "cell_type": "markdown",
   "metadata": {},
   "source": [
    "Crashes with Severe Injuries between 15:30 and 19:00\n",
    "\n",
    "There are not as many severe injuries during this time, but do not the persistent clustering around down-town; this does not seem to change much as compared to the day-time map.\n",
    "\n",
    "This could be due to the role downtown plays as a transit hub; most paths go through this area."
   ]
  },
  {
   "cell_type": "code",
   "execution_count": 20,
   "metadata": {
    "collapsed": false
   },
   "outputs": [
    {
     "name": "stdout",
     "output_type": "stream",
     "text": [
      "Night Time (1900 - 500): Total Crashes involving Severe Injuries and fatalities from 2010-2017\n"
     ]
    },
    {
     "data": {
      "text/html": [
       "<iframe src=output/crashes_1900_500.html width=700 height=525></iframe>"
      ],
      "text/plain": [
       "<IPython.core.display.HTML object>"
      ]
     },
     "execution_count": 20,
     "metadata": {},
     "output_type": "execute_result"
    }
   ],
   "source": [
    "print(\"Night Time (1900 - 500): Total Crashes involving Severe Injuries and fatalities from 2010-2017\")\n",
    "import IPython\n",
    "url = 'output/crashes_1900_500.html'\n",
    "iframe = '<iframe src=' + url + ' width=700 height=525></iframe>'\n",
    "IPython.display.HTML(iframe)"
   ]
  },
  {
   "cell_type": "markdown",
   "metadata": {},
   "source": [
    "Crashes with Severe Injuries between 19:00 and 05:00\n",
    "\n",
    "The bar-chart showed an overall decrease during this time.\n",
    "\n",
    "Note the increase in accidents around down-town, which could correspond to the spikes observed around 2 am in the chart as bars close."
   ]
  },
  {
   "cell_type": "markdown",
   "metadata": {},
   "source": [
    "## Feature Selection\n",
    "\n",
    "\n",
    "The features were split into continuous and non-continuous categories.\n",
    "\n",
    "Some features require dummy-encoding"
   ]
  },
  {
   "cell_type": "code",
   "execution_count": null,
   "metadata": {
    "collapsed": true
   },
   "outputs": [],
   "source": [
    "smalldf = data[['crash_severity', \n",
    "                'intersection_related', \n",
    "                'light_condition', \n",
    "                'manner_of_collision',\n",
    "                'surface_condition', \n",
    "                'weather_condition']]\n",
    "\n",
    "smalldf.head()\n",
    "\n",
    "dummies_needed_list = [\n",
    " 'intersection_related',\n",
    " 'light_condition',\n",
    " 'manner_of_collision',\n",
    " 'surface_condition',\n",
    " 'weather_condition']\n",
    "\n",
    "# encode data for dummies_needed_list\n",
    "for feat in dummies_needed_list:\n",
    "    smalldf = pd.concat([smalldf,pd.get_dummies(smalldf[feat],prefix=feat)],axis=1)\n",
    "    smalldf = smalldf.drop([feat],axis=1)\n",
    "    \n",
    "smalldf.head()\n",
    "X = smalldf.drop(['crash_severity'], axis=1)\n",
    "y = smalldf['crash_severity']"
   ]
  },
  {
   "cell_type": "markdown",
   "metadata": {},
   "source": [
    "### Decision Tree Classifier\n",
    "\n",
    "The dataset is highly categorical, which lends itself well to a tree classifier.\n",
    "\n",
    "\n",
    "For initial data exploration, a decision tree classifier was used for it's explainability to gain better insight into the model.\n",
    "\n",
    "The resulting confusion matrix indicated that this was a step in the right direction. \n"
   ]
  },
  {
   "cell_type": "code",
   "execution_count": 14,
   "metadata": {
    "collapsed": true
   },
   "outputs": [],
   "source": [
    "# import the \"crash\" data\n",
    "datafile = \"data/my_map_grid.csv\"\n",
    "\n",
    "# get clean data\n",
    "(data,featdef) = txpars.preprocess_data(datafile)\n",
    "\n",
    "# add binary categories\n",
    "(data,featdef) = txpars.preproc_add_bin_categories(data, featdef, verbose=0)\n",
    "\n",
    "# get dummies\n",
    "(data_dummies,featdef) = ftdef.featdef_get_dummies(data,featdef)\n",
    "# data_dummies.head()"
   ]
  },
  {
   "cell_type": "code",
   "execution_count": 15,
   "metadata": {},
   "outputs": [
    {
     "name": "stdout",
     "output_type": "stream",
     "text": [
      "-I-: DecisionTree\n"
     ]
    }
   ],
   "source": [
    "print(\"-I-: DecisionTree\")\n",
    "# valid features - defined for regression (aka classification), are integers (because I'm really into that), and ain't supposed to be no dummy (entries meant to be encoded as dummies)\n",
    "# 'regtype ! = False' mainly for crash_id\n",
    "# TODO - change crash_year to regtype == False\n",
    "validfeats = featdef[(featdef.regtype != False) & (featdef.type == 'int') & (featdef.dummies == False)]\n",
    "# define predictors and response\n",
    "predictors  = list(featdef[(featdef.regtype != False) & (featdef.target != True) & (featdef.dummies == False) & (featdef.regtype != 'bin_cat') & (featdef.type == 'int') & ((featdef.index != 'average_daily_traffic_amount') & (featdef.index != 'average_daily_traffic_year')) ].index)\n",
    "responsecls = list(featdef[(featdef.regtype != False) & (featdef.target == True) & (featdef.dummies == False) & (featdef.regtype != 'bin_cat') & (featdef.type == 'int') & (featdef.origin == 'crash_severity')].index)\n",
    "\n",
    "if(0):\n",
    "    print(\"##############\")\n",
    "    print(\"predictors:\")\n",
    "    print(predictors)\n",
    "    print(\"responsecls:\")\n",
    "    print(responsecls)\n",
    "    print(\"##############\")\n",
    "\n"
   ]
  },
  {
   "cell_type": "code",
   "execution_count": null,
   "metadata": {
    "collapsed": true
   },
   "outputs": [],
   "source": [
    "print(\"-I-: train-test split\")\n",
    "testsize = 0.3\n",
    "# get dummies for this particular case\n",
    "data_dummies_firstplot = data_dummies[ predictors + responsecls ].dropna()\n",
    "# re-combine dummies with idxmax \n",
    "#+ src: https://stackoverflow.com/a/38334528\n",
    "X_full = data_dummies_firstplot[predictors]\n",
    "y_full = data_dummies_firstplot[responsecls].idxmax(1)\n",
    "X_train, X_test, y_train, y_test = model_selection.train_test_split(X_full,y_full, test_size=testsize, random_state=42)\n",
    "\n",
    "\n",
    "# print(X_full.columns)\n",
    "# print(y_full)\n",
    "\n",
    "\n",
    "clf = tree.DecisionTreeClassifier() #max_depth = 5)\n",
    "# use full dataset for feature selection\n",
    "\n",
    "# raw\n",
    "#clf.fit(X_full,y_full)\n",
    "#cm = confusion_matrix(y_test,clf.predict(X_full))\n",
    "#helpers.plot_confusion_matrix(cm,classes=clf.classes_)\n",
    "\n",
    "# train/test\n",
    "clf.fit(X_train,y_train)\n"
   ]
  },
  {
   "cell_type": "code",
   "execution_count": 17,
   "metadata": {},
   "outputs": [
    {
     "name": "stdout",
     "output_type": "stream",
     "text": [
      "Confusion matrix, without normalization\n"
     ]
    },
    {
     "data": {
      "image/png": "[encoded data removed]",
      "text/plain": [
       "<matplotlib.figure.Figure at 0x7fdd2353c128>"
      ]
     },
     "metadata": {},
     "output_type": "display_data"
    }
   ],
   "source": [
    "from sklearn.metrics import confusion_matrix\n",
    "cm = confusion_matrix(y_test,clf.predict(X_test))\n",
    "helpers.plot_confusion_matrix(cm,classes=clf.classes_)"
   ]
  },
  {
   "cell_type": "markdown",
   "metadata": {},
   "source": [
    "### Decision Tree Classifier CV\n",
    "\n",
    "The Cross-Validation Decision Tree Classifier continues with the feature selection.\n",
    "\n",
    "The goal here is to balance automatic feature reduction (backwards feature selection) with manual feature selection (removing features which seem to be overrepresented)"
   ]
  },
  {
   "cell_type": "code",
   "execution_count": 57,
   "metadata": {
    "collapsed": false,
    "scrolled": true
   },
   "outputs": [],
   "source": [
    "# import the \"crash\" data\n",
    "datafile = \"data/my_map_grid.csv\"\n",
    "\n",
    "# get clean data\n",
    "(data2,featdef) = txpars.preprocess_data(datafile)\n",
    "\n",
    "# add binary categories\n",
    "(data2,featdef) = txpars.preproc_add_bin_categories(data2, featdef, verbose=0)\n",
    "\n",
    "# get dummies\n",
    "(data_dummies,featdef) = ftdef.featdef_get_dummies(data2,featdef)"
   ]
  },
  {
   "cell_type": "code",
   "execution_count": null,
   "metadata": {
    "collapsed": false,
    "scrolled": false
   },
   "outputs": [],
   "source": [
    "def run_cross_val(data_dummies,featdef,dropfeatures=[]):\n",
    "    validfeats = featdef[(featdef.dummies == False) & (featdef.type == 'int')]\n",
    "    if(len(dropfeatures) >0):\n",
    "        validfeats = validfeats.drop(dropfeatures)\n",
    "    data_int_list = list(validfeats.index)\n",
    "    df_int = data_dummies[list(validfeats.index)]\n",
    "    # Avoid: ValueError: Input contains NaN, infinity or a value too large for dtype('float64').\n",
    "    df_int_nonan = df_int.dropna()\n",
    "    print(\"NaN handling: Samples: NaN data %d / %d fullset => %d newset\" % ( (df_int.shape[0] - df_int_nonan.shape[0]) , df_int.shape[0] , df_int_nonan.shape[0]))\n",
    "    if(df_int_nonan.shape[1] == df_int.shape[1]):\n",
    "      print(\"NaN handling: no  feature reduction after dropna(): pre %d , post %d \" % (df_int_nonan.shape[1] , df_int.shape[1]))\n",
    "    else:\n",
    "      print(\"NaN handling: !!! FEATURE REDUCTION after dropna(): pre %d , post %d \" % (df_int_nonan.shape[1] , df_int.shape[1]))\n",
    "    if(1):\n",
    "        print(\"-I-: DecisionTree 1\")\n",
    "        # further prune valid features - mainly get rid of crash_id\n",
    "        validfeats = validfeats[validfeats.regtype != False] # only invalid values are False\n",
    "        predictors  = list(validfeats[(validfeats.target != True) & (validfeats.regtype != 'bin_cat')].index)\n",
    "        responsecls = list(validfeats[(validfeats.target == True) & (validfeats.regtype == 'bin_cat')].index)\n",
    "    print(\"-I-: DecisionTree - feature selection\")\n",
    "    from sklearn.model_selection import StratifiedKFold,GroupKFold\n",
    "    from sklearn.feature_selection import RFECV\n",
    "    from sklearn import tree\n",
    "    clf = tree.DecisionTreeClassifier(random_state = 42) #max_depth = 5)\n",
    "    # use full dataset for feature selection\n",
    "    X_full = df_int_nonan[predictors]\n",
    "    y_full = df_int_nonan[responsecls]\n",
    "\n",
    "    print(\"-I-: DecisionTree - feature selection\")\n",
    "    if(0):\n",
    "      dectree_evaluate_cv_strategy(X_full, y_full)\n",
    "    else:\n",
    "      print(\"-I-: ... skipping\")\n",
    "\n",
    "    print(\"-I-: previously chosen: StratifiedKFold with roc_auc_score\")\n",
    "    # settling on ...\n",
    "    cvFold = StratifiedKFold\n",
    "    rfecv = RFECV(estimator=clf, step=1, cv=cvFold(2), scoring='roc_auc')\n",
    "    rfecv.fit(X_full,y_full.values.ravel())\n",
    "\n",
    "    # Plot number of features VS. cross-validation scores\n",
    "    plt.figure()\n",
    "    plt.xlabel(\"Number of features selected\")\n",
    "    plt.ylabel(\"Cross validation score (nb of correct classifications)\")\n",
    "    # TODO: plot the feature names at 45deg angle under the numbers\n",
    "    plt.plot(range(1, len(rfecv.grid_scores_) + 1), rfecv.grid_scores_)\n",
    "    plt.show()\n",
    "    print(\"Optimal number of features : %d\" % rfecv.n_features_)\n",
    "\n",
    "    # print important features\n",
    "    print(\"-I-: most important features:\")\n",
    "    clf_imp_feats = helpers.print_model_feats_important(rfecv.estimator_, predictors, 0)\n",
    "    ax = helpers.get_ax_barh(clf_imp_feats, title=\"DecisionTree Important Features\")\n",
    "    plt.show()\n",
    "\n",
    "    print(\"-I-: examining most important features:\")\n",
    "    print(\"ratio  score   non-nan total feature\")\n",
    "    for i,feat in enumerate(clf_imp_feats.index):\n",
    "        num_not_nan = data_dummies[~data_dummies[feat].isnull()].shape[0] # data_dummies[feat].count() wooudl work too\n",
    "        print(\"%0.4f %0.4f %5d %5d %s\" % (num_not_nan/ data_dummies.shape[0], clf_imp_feats[i], num_not_nan, data_dummies.shape[0], feat))\n",
    "    #plt.bar(data_dummies.crash_year.value_counts().index,data_dummies.crash_year.value_counts().values) ; plt.show()\n",
    "run_cross_val(data_dummies, featdef)\n",
    "run_cross_val(data_dummies, featdef, ['average_daily_traffic_amount','crash_year'])\n",
    "run_cross_val(data_dummies, featdef, ['average_daily_traffic_amount','average_daily_traffic_year','crash_year'])"
   ]
  },
  {
   "cell_type": "markdown",
   "metadata": {},
   "source": [
    "# Analysis"
   ]
  },
  {
   "cell_type": "markdown",
   "metadata": {},
   "source": [
    "## Random Forest"
   ]
  },
  {
   "cell_type": "markdown",
   "metadata": {},
   "source": [
    "## KNN: K Nearest Neighbours"
   ]
  },
  {
   "cell_type": "code",
   "execution_count": null,
   "metadata": {
    "collapsed": true
   },
   "outputs": [],
   "source": []
  },
  {
   "cell_type": "markdown",
   "metadata": {},
   "source": [
    "## XGB ROC CV Optimisation"
   ]
  }
 ],
 "metadata": {
  "anaconda-cloud": {},
  "kernelspec": {
   "display_name": "Python 3",
   "language": "python",
   "name": "python3"
  },
  "language_info": {
   "codemirror_mode": {
    "name": "ipython",
    "version": 3
   },
   "file_extension": ".py",
   "mimetype": "text/x-python",
   "name": "python",
   "nbconvert_exporter": "python",
   "pygments_lexer": "ipython3",
   "version": "3.6.0"
  }
 },
 "nbformat": 4,
 "nbformat_minor": 1
}
